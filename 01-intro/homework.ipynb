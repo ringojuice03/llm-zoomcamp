{
 "cells": [
  {
   "cell_type": "code",
   "execution_count": 1,
   "id": "0da94b5d-63e7-48ba-9a91-f2e9d523c292",
   "metadata": {},
   "outputs": [],
   "source": [
    "import os"
   ]
  },
  {
   "cell_type": "code",
   "execution_count": 2,
   "id": "5166ad59-cdff-4c20-896b-55c74214b52d",
   "metadata": {},
   "outputs": [],
   "source": [
    "gemini_api_key = os.environ['GEMINI_API_KEY']"
   ]
  },
  {
   "cell_type": "code",
   "execution_count": 3,
   "id": "05693db0-cdcb-4f6e-9017-11050ba023f7",
   "metadata": {},
   "outputs": [],
   "source": [
    "from google import genai"
   ]
  },
  {
   "cell_type": "code",
   "execution_count": 4,
   "id": "d2344dca-3c1a-4db0-876a-d98312d040c3",
   "metadata": {},
   "outputs": [],
   "source": [
    "client = genai.Client(api_key=gemini_api_key)"
   ]
  },
  {
   "cell_type": "code",
   "execution_count": 5,
   "id": "86b58031-ce46-4b41-8852-ac909a841902",
   "metadata": {},
   "outputs": [],
   "source": [
    "response = client.models.generate_content(\n",
    "    model=\"gemini-2.0-flash\", \n",
    "    contents=\"is it too late to join the course?\"\n",
    ")"
   ]
  },
  {
   "cell_type": "code",
   "execution_count": 6,
   "id": "fe5d6443-78b7-42f0-93a3-decefc5e0ae0",
   "metadata": {},
   "outputs": [
    {
     "data": {
      "text/plain": [
       "\"Whether or not it's too late to join a course depends on several factors:\\n\\n*   **The Course's Start Date:** If the course has already started, and it's been a significant amount of time, it might be difficult to catch up.\\n*   **The Course's Format:** Is it a self-paced course, or does it have live lectures and deadlines? Self-paced courses are generally more flexible.\\n*   **The Instructor's or Institution's Policy:** Some courses have a strict enrollment deadline, while others are more lenient.\\n*   **Your Availability and Commitment:** Are you willing to put in the extra effort to catch up if the course has already started?\\n\\n**To find out if it's too late, you should:**\\n\\n1.  **Check the Course Website or Contact the Instructor/Organizer:** This is the best way to get a definitive answer. Look for information on late enrollment or contact details to inquire directly.\\n2.  **Consider the Course Content:** Review the course syllabus or outline to see how much material has already been covered.\\n3.  **Assess Your Own Capacity:** Be honest with yourself about whether you can realistically catch up and succeed in the course.\\n\\nGood luck!\""
      ]
     },
     "execution_count": 6,
     "metadata": {},
     "output_type": "execute_result"
    }
   ],
   "source": [
    "response.text"
   ]
  },
  {
   "cell_type": "code",
   "execution_count": null,
   "id": "16aabbc8-0758-4259-8a47-07e085701eec",
   "metadata": {},
   "outputs": [],
   "source": []
  }
 ],
 "metadata": {
  "kernelspec": {
   "display_name": "Python 3 (ipykernel)",
   "language": "python",
   "name": "python3"
  },
  "language_info": {
   "codemirror_mode": {
    "name": "ipython",
    "version": 3
   },
   "file_extension": ".py",
   "mimetype": "text/x-python",
   "name": "python",
   "nbconvert_exporter": "python",
   "pygments_lexer": "ipython3",
   "version": "3.12.1"
  }
 },
 "nbformat": 4,
 "nbformat_minor": 5
}
