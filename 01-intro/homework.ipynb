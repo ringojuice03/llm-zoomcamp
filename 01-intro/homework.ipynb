{
 "cells": [
  {
   "cell_type": "code",
   "execution_count": 1,
   "id": "0da94b5d-63e7-48ba-9a91-f2e9d523c292",
   "metadata": {},
   "outputs": [],
   "source": [
    "import os"
   ]
  },
  {
   "cell_type": "code",
   "execution_count": 2,
   "id": "5166ad59-cdff-4c20-896b-55c74214b52d",
   "metadata": {},
   "outputs": [],
   "source": [
    "gemini_api_key = os.environ['GEMINI_API_KEY']"
   ]
  },
  {
   "cell_type": "code",
   "execution_count": 3,
   "id": "05693db0-cdcb-4f6e-9017-11050ba023f7",
   "metadata": {},
   "outputs": [],
   "source": [
    "from google import genai"
   ]
  },
  {
   "cell_type": "code",
   "execution_count": 4,
   "id": "d2344dca-3c1a-4db0-876a-d98312d040c3",
   "metadata": {},
   "outputs": [],
   "source": [
    "client = genai.Client(api_key=gemini_api_key)"
   ]
  },
  {
   "cell_type": "code",
   "execution_count": 5,
   "id": "86b58031-ce46-4b41-8852-ac909a841902",
   "metadata": {},
   "outputs": [],
   "source": [
    "response = client.models.generate_content(\n",
    "    model=\"gemini-2.0-flash\", \n",
    "    contents=\"is it too late to join the course?\"\n",
    ")"
   ]
  },
  {
   "cell_type": "code",
   "execution_count": 6,
   "id": "fe5d6443-78b7-42f0-93a3-decefc5e0ae0",
   "metadata": {},
   "outputs": [
    {
     "data": {
      "text/plain": [
       "\"Whether it's too late to join a course depends on a few factors:\\n\\n*   **The course itself:** Some courses have strict deadlines for enrollment, while others are more flexible.\\n*   **How far along the course is:** If the course has just started, you're more likely to be able to catch up than if it's nearing the end.\\n*   **Your learning style and availability:** Consider whether you can realistically catch up on any missed material and still succeed in the course.\\n*   **The instructor's policies:** Some instructors are willing to make accommodations for late enrollment, while others are not.\\n\\nTo find out if it's too late, you should:\\n\\n1.  **Check the course website or syllabus:** Look for information about enrollment deadlines, late enrollment policies, or contact information for the instructor.\\n2.  **Contact the instructor or course administrator:** Explain your situation and ask if it's possible to join the course late. Be prepared to explain why you want to join and how you plan to catch up.\""
      ]
     },
     "execution_count": 6,
     "metadata": {},
     "output_type": "execute_result"
    }
   ],
   "source": [
    "response.text"
   ]
  },
  {
   "cell_type": "code",
   "execution_count": null,
   "id": "16aabbc8-0758-4259-8a47-07e085701eec",
   "metadata": {},
   "outputs": [],
   "source": []
  }
 ],
 "metadata": {
  "kernelspec": {
   "display_name": "Python 3 (ipykernel)",
   "language": "python",
   "name": "python3"
  },
  "language_info": {
   "codemirror_mode": {
    "name": "ipython",
    "version": 3
   },
   "file_extension": ".py",
   "mimetype": "text/x-python",
   "name": "python",
   "nbconvert_exporter": "python",
   "pygments_lexer": "ipython3",
   "version": "3.12.1"
  }
 },
 "nbformat": 4,
 "nbformat_minor": 5
}
