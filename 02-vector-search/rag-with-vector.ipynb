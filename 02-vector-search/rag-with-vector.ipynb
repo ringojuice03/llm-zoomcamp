{
 "cells": [
  {
   "cell_type": "markdown",
   "id": "6ae13787-4e4d-41f2-b583-321b7c712ccc",
   "metadata": {},
   "source": [
    "## Step 1. Fetch data"
   ]
  },
  {
   "cell_type": "code",
   "execution_count": 1,
   "id": "b65c3132-07e6-4631-8f52-030f37397b15",
   "metadata": {},
   "outputs": [],
   "source": [
    "import requests"
   ]
  },
  {
   "cell_type": "code",
   "execution_count": 2,
   "id": "771b6c91-542d-4bee-8a7f-3b90cbda5675",
   "metadata": {},
   "outputs": [],
   "source": [
    "docs_url = 'https://github.com/alexeygrigorev/llm-rag-workshop/raw/main/notebooks/documents.json'\n",
    "docs_response = requests.get(docs_url)\n",
    "docs_raw = docs_response.json()"
   ]
  },
  {
   "cell_type": "code",
   "execution_count": 3,
   "id": "419d25e7-62af-4645-9aa0-7b58ed5c4d55",
   "metadata": {},
   "outputs": [],
   "source": [
    "documents = []\n",
    "\n",
    "for course in docs_raw:\n",
    "    for doc in course['documents']:\n",
    "        doc['course'] = course['course']\n",
    "        documents.append(doc)"
   ]
  },
  {
   "cell_type": "markdown",
   "id": "87460c65-8842-45e0-a25e-8dbc137edac7",
   "metadata": {},
   "source": [
    "## Step 2: Prepare LLM client"
   ]
  },
  {
   "cell_type": "code",
   "execution_count": 4,
   "id": "ed16fbe9-51e9-49d7-bc2e-bae028093952",
   "metadata": {},
   "outputs": [],
   "source": [
    "import os\n",
    "\n",
    "gemini_api_key = os.environ['GEMINI_API_KEY']"
   ]
  },
  {
   "cell_type": "code",
   "execution_count": 5,
   "id": "eda3592d-8f6a-4401-bc4a-a7d6269170c9",
   "metadata": {},
   "outputs": [],
   "source": [
    "from google import genai\n",
    "\n",
    "gemini_client = genai.Client(api_key=gemini_api_key)"
   ]
  },
  {
   "cell_type": "code",
   "execution_count": 6,
   "id": "acae163b-5ac8-4c4d-b639-14a28bfcab16",
   "metadata": {},
   "outputs": [],
   "source": [
    "def llm_generate(prompt):\n",
    "    response = gemini_client.models.generate_content(\n",
    "        model='gemini-2.0-flash',\n",
    "        contents=prompt\n",
    "    )\n",
    "\n",
    "    return response"
   ]
  },
  {
   "cell_type": "markdown",
   "id": "0957fa52-cde1-401c-b2ac-bd7a350cdf58",
   "metadata": {},
   "source": [
    "## Step 3: Build prompt template"
   ]
  },
  {
   "cell_type": "code",
   "execution_count": 7,
   "id": "ad0779fd-a956-47fc-8506-c0f678310205",
   "metadata": {},
   "outputs": [],
   "source": [
    "def build_prompt(query, context):\n",
    "    prompt_template = \"\"\"\n",
    "    You're a course teaching assistant. Answer the QUESTION based on the CONTEXT from the FAQ database.\n",
    "    Use only the facts from the CONTEXT when answering the QUESTION.\n",
    "    \n",
    "    QUESTION: {question}\n",
    "    \n",
    "    CONTEXT:\n",
    "    {context}\n",
    "    -----------------------------------------------------------------\n",
    "    \"\"\".strip()\n",
    "    \n",
    "    prompt = prompt_template.format(question=query, context=context).strip()\n",
    "\n",
    "    return prompt"
   ]
  },
  {
   "cell_type": "markdown",
   "id": "b667fbdb-0108-47e4-9913-2f6c3dc327bd",
   "metadata": {},
   "source": [
    "## Step 4. Prepare Vector DB: qdrant"
   ]
  },
  {
   "cell_type": "markdown",
   "id": "5612934a-5771-4992-85dc-35e70457a7bd",
   "metadata": {},
   "source": [
    "#### Initialize qdrant client"
   ]
  },
  {
   "cell_type": "code",
   "execution_count": 15,
   "id": "7862ed92-d6ec-4a4d-9902-6c9f1a192ac3",
   "metadata": {},
   "outputs": [],
   "source": [
    "from qdrant_client import QdrantClient, models"
   ]
  },
  {
   "cell_type": "code",
   "execution_count": 9,
   "id": "5f46a9b3-a860-478d-b42a-8870d3b87236",
   "metadata": {},
   "outputs": [],
   "source": [
    "qd_client = QdrantClient('http://localhost:6333')"
   ]
  },
  {
   "cell_type": "markdown",
   "id": "24f9f9e3-5a4b-4792-998a-50bd59fedea0",
   "metadata": {},
   "source": [
    "#### Choose model"
   ]
  },
  {
   "cell_type": "code",
   "execution_count": 10,
   "id": "36c04907-c681-4154-9e0a-e1cefb64e7ea",
   "metadata": {},
   "outputs": [],
   "source": [
    "from fastembed import TextEmbedding"
   ]
  },
  {
   "cell_type": "code",
   "execution_count": 11,
   "id": "9a6c6d87-07e0-4c47-9d84-888da3c811a7",
   "metadata": {},
   "outputs": [],
   "source": [
    "EMBEDDING_DIMENSIONALITY = 512"
   ]
  },
  {
   "cell_type": "code",
   "execution_count": 12,
   "id": "723ada39-14f6-4cb1-9eb0-43c367ed38ae",
   "metadata": {},
   "outputs": [
    {
     "name": "stdout",
     "output_type": "stream",
     "text": [
      "{\n",
      "  \"model\": \"BAAI/bge-small-zh-v1.5\",\n",
      "  \"sources\": {\n",
      "    \"hf\": \"Qdrant/bge-small-zh-v1.5\",\n",
      "    \"url\": \"https://storage.googleapis.com/qdrant-fastembed/fast-bge-small-zh-v1.5.tar.gz\",\n",
      "    \"_deprecated_tar_struct\": true\n",
      "  },\n",
      "  \"model_file\": \"model_optimized.onnx\",\n",
      "  \"description\": \"Text embeddings, Unimodal (text), Chinese, 512 input tokens truncation, Prefixes for queries/documents: not so necessary, 2023 year.\",\n",
      "  \"license\": \"mit\",\n",
      "  \"size_in_GB\": 0.09,\n",
      "  \"additional_files\": [],\n",
      "  \"dim\": 512,\n",
      "  \"tasks\": {}\n",
      "}\n",
      "{\n",
      "  \"model\": \"Qdrant/clip-ViT-B-32-text\",\n",
      "  \"sources\": {\n",
      "    \"hf\": \"Qdrant/clip-ViT-B-32-text\",\n",
      "    \"url\": null,\n",
      "    \"_deprecated_tar_struct\": false\n",
      "  },\n",
      "  \"model_file\": \"model.onnx\",\n",
      "  \"description\": \"Text embeddings, Multimodal (text&image), English, 77 input tokens truncation, Prefixes for queries/documents: not necessary, 2021 year\",\n",
      "  \"license\": \"mit\",\n",
      "  \"size_in_GB\": 0.25,\n",
      "  \"additional_files\": [],\n",
      "  \"dim\": 512,\n",
      "  \"tasks\": {}\n",
      "}\n",
      "{\n",
      "  \"model\": \"jinaai/jina-embeddings-v2-small-en\",\n",
      "  \"sources\": {\n",
      "    \"hf\": \"xenova/jina-embeddings-v2-small-en\",\n",
      "    \"url\": null,\n",
      "    \"_deprecated_tar_struct\": false\n",
      "  },\n",
      "  \"model_file\": \"onnx/model.onnx\",\n",
      "  \"description\": \"Text embeddings, Unimodal (text), English, 8192 input tokens truncation, Prefixes for queries/documents: not necessary, 2023 year.\",\n",
      "  \"license\": \"apache-2.0\",\n",
      "  \"size_in_GB\": 0.12,\n",
      "  \"additional_files\": [],\n",
      "  \"dim\": 512,\n",
      "  \"tasks\": {}\n",
      "}\n"
     ]
    }
   ],
   "source": [
    "import json\n",
    "\n",
    "for models in TextEmbedding.list_supported_models():\n",
    "    if models['dim'] == EMBEDDING_DIMENSIONALITY:\n",
    "        print(json.dumps(models, indent=2))"
   ]
  },
  {
   "cell_type": "code",
   "execution_count": 13,
   "id": "22bfa6a6-553c-40f6-9f20-df1677ff2c4f",
   "metadata": {},
   "outputs": [],
   "source": [
    "model_handle = 'jinaai/jina-embeddings-v2-small-en'"
   ]
  },
  {
   "cell_type": "markdown",
   "id": "36069c82-45e8-4823-bd1a-9fa3294e479d",
   "metadata": {},
   "source": [
    "#### Create collection"
   ]
  },
  {
   "cell_type": "markdown",
   "id": "6a72d37e-dc82-4a6a-968a-0f6f1175f74d",
   "metadata": {},
   "source": [
    "collection_name = 'zoomcamp-faq'\n",
    "\n",
    "vector_settings = models.VectorParams(\n",
    "    size=EMBEDDING_DIMENSIONALITY, \n",
    "    distance=models.Distance.COSINE\n",
    ")\n",
    "\n",
    "qd_client.create_collection(\n",
    "    collection_name=collection_name,\n",
    "    vectors_config=vector_settings\n",
    ")"
   ]
  },
  {
   "cell_type": "markdown",
   "id": "e9f5ef08-72e5-48f0-b890-8144f4ee0581",
   "metadata": {},
   "source": [
    "#### Organize points"
   ]
  },
  {
   "cell_type": "code",
   "execution_count": 16,
   "id": "6074e277-2d5c-4bed-9b44-32b8abaed7f5",
   "metadata": {},
   "outputs": [],
   "source": [
    "points = []\n",
    "\n",
    "for i, doc in enumerate(documents):\n",
    "    text = doc['question'] + ' ' + doc['text']\n",
    "    vector = models.Document(\n",
    "        text=text,\n",
    "        model=model_handle\n",
    "    )\n",
    "    \n",
    "    point = models.PointStruct(\n",
    "        id = i,\n",
    "        vector=vector,\n",
    "        payload=doc\n",
    "    )\n",
    "\n",
    "    points.append(point)"
   ]
  },
  {
   "cell_type": "markdown",
   "id": "70223c92-ff8b-4dcd-b646-1d8e0b6bfecc",
   "metadata": {},
   "source": [
    "#### Index the points to collection"
   ]
  },
  {
   "cell_type": "code",
   "execution_count": null,
   "id": "22f23e9b-fa97-4222-8768-8957decb2617",
   "metadata": {},
   "outputs": [],
   "source": [
    "qd_client.upsert(\n",
    "    collection_name=collection_name,\n",
    "    points=points\n",
    ")"
   ]
  },
  {
   "cell_type": "markdown",
   "id": "7ddff77e-aa24-4da2-b8ef-b31c8cea0c70",
   "metadata": {},
   "source": [
    "#### Create vector search function"
   ]
  },
  {
   "cell_type": "code",
   "execution_count": 28,
   "id": "ff0f2b29-7b35-42c7-b8f0-88c17ad7cc93",
   "metadata": {},
   "outputs": [],
   "source": [
    "def vector_search(query, limit=5):\n",
    "    course = 'data-engineering-zoomcamp'\n",
    "    query_embed = models.Document(text=query, model=model_handle)\n",
    "    query_filter = models.Filter(\n",
    "        must = models.FieldCondition(\n",
    "            key = 'course',\n",
    "            match = models.MatchValue(value=course)\n",
    "        )\n",
    "    )\n",
    "    \n",
    "    search_reponse = qd_client.query_points(\n",
    "        collection_name=collection_name,\n",
    "        query=query_embed,\n",
    "        limit=limit,\n",
    "        query_filter=query_filter,\n",
    "    )\n",
    "\n",
    "    context = \"\"\n",
    "    for response in search_reponse.points:\n",
    "        question = response.payload['question']\n",
    "        text = response.payload['text']\n",
    "        context += f'Question: {question}\\nAnswer: {text}\\n\\n'\n",
    "    \n",
    "    return context"
   ]
  },
  {
   "cell_type": "markdown",
   "id": "b4db95d4-c849-49c7-86ed-4c6749df5734",
   "metadata": {},
   "source": [
    "## Create RAG function"
   ]
  },
  {
   "cell_type": "code",
   "execution_count": 29,
   "id": "91bc80dd-e6c3-4f8d-b69a-720967aeee8f",
   "metadata": {},
   "outputs": [],
   "source": [
    "def rag(query):\n",
    "    context = vector_search(query)\n",
    "    prompt = build_prompt(query, context)\n",
    "    response = llm_generate(prompt)\n",
    "\n",
    "    # return context\n",
    "    return response.candidates[0].content.parts[0].text"
   ]
  },
  {
   "cell_type": "code",
   "execution_count": 38,
   "id": "8cd748bc-989a-49eb-8977-ae41d5b91e2f",
   "metadata": {},
   "outputs": [],
   "source": [
    "query = \"How to run kafka?\""
   ]
  },
  {
   "cell_type": "code",
   "execution_count": 39,
   "id": "65afe6b1-8180-45fa-bdb6-de91712f4c6b",
   "metadata": {},
   "outputs": [],
   "source": [
    "answer = rag(query)"
   ]
  },
  {
   "cell_type": "code",
   "execution_count": 40,
   "id": "752eb647-c4ed-4443-b3dd-67a37dbbe45a",
   "metadata": {},
   "outputs": [
    {
     "name": "stdout",
     "output_type": "stream",
     "text": [
      "There are different ways to run Kafka depending on the context:\n",
      "\n",
      "*   **To run producer/consumer/kstreams/etc in terminal (Java):** In the project directory, run: `java -cp build/libs/<jar_name>-1.0-SNAPSHOT.jar:out src/main/java/org/example/JsonProducer.java`\n",
      "*   **If you encounter a Module \"kafka\" not found error when trying to run producer.py:** Create a virtual environment, activate it, and install the requirements.  Then run the python files in that environment.\n",
      "*   **If you encounter kafka.errors.NoBrokersAvailable:**  Ensure your Kafka broker Docker container is working using `docker ps`. If it's not running, use `docker compose up -d` in the Docker Compose YAML file folder to start the instances.\n",
      "\n"
     ]
    }
   ],
   "source": [
    "print(answer)"
   ]
  },
  {
   "cell_type": "code",
   "execution_count": null,
   "id": "9ca30c88-4d48-4141-8d6c-64490509137e",
   "metadata": {},
   "outputs": [],
   "source": []
  }
 ],
 "metadata": {
  "kernelspec": {
   "display_name": "Python 3 (ipykernel)",
   "language": "python",
   "name": "python3"
  },
  "language_info": {
   "codemirror_mode": {
    "name": "ipython",
    "version": 3
   },
   "file_extension": ".py",
   "mimetype": "text/x-python",
   "name": "python",
   "nbconvert_exporter": "python",
   "pygments_lexer": "ipython3",
   "version": "3.12.1"
  }
 },
 "nbformat": 4,
 "nbformat_minor": 5
}
