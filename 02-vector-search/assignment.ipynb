{
 "cells": [
  {
   "cell_type": "code",
   "execution_count": 1,
   "id": "d4bfbf21-707a-4026-ae17-b28f448894f1",
   "metadata": {},
   "outputs": [],
   "source": [
    "from fastembed import TextEmbedding"
   ]
  },
  {
   "cell_type": "code",
   "execution_count": 2,
   "id": "161863ec-f0f5-4366-8a54-6167552195e1",
   "metadata": {},
   "outputs": [],
   "source": [
    "import numpy as np\n",
    "import pandas as pd"
   ]
  },
  {
   "cell_type": "markdown",
   "id": "904c89a7-57dc-4a48-b563-380977bac2f5",
   "metadata": {},
   "source": [
    "### Q1. Embedding the Query"
   ]
  },
  {
   "cell_type": "code",
   "execution_count": 3,
   "id": "487bff3b-e39c-4120-a7c7-aa68b3962513",
   "metadata": {},
   "outputs": [],
   "source": [
    "model_handle = \"jinaai/jina-embeddings-v2-small-en\""
   ]
  },
  {
   "cell_type": "code",
   "execution_count": 4,
   "id": "90aa0875-eaaf-421c-a803-ef13608d1c8a",
   "metadata": {},
   "outputs": [],
   "source": [
    "query = 'I just discovered the course. Can I join now?'\n",
    "sz = 512"
   ]
  },
  {
   "cell_type": "code",
   "execution_count": 5,
   "id": "224f67fe-c318-4fd8-b806-5b096bb75b24",
   "metadata": {},
   "outputs": [],
   "source": [
    "model = TextEmbedding(model_name=model_handle)"
   ]
  },
  {
   "cell_type": "code",
   "execution_count": 6,
   "id": "ab3e6dd4-ccb3-433e-9ee5-2d36e945456d",
   "metadata": {},
   "outputs": [
    {
     "data": {
      "text/plain": [
       "<generator object TextEmbedding.embed at 0x75133ba066b0>"
      ]
     },
     "execution_count": 6,
     "metadata": {},
     "output_type": "execute_result"
    }
   ],
   "source": [
    "model.embed(documents=query, batch_size=sz)"
   ]
  },
  {
   "cell_type": "code",
   "execution_count": 7,
   "id": "471582b9-c87f-4ae6-bcd6-cf82a3d50052",
   "metadata": {},
   "outputs": [],
   "source": [
    "embedding_generator = model.embed(documents=query, batch_size=sz)"
   ]
  },
  {
   "cell_type": "code",
   "execution_count": 8,
   "id": "90f0c248-78e5-49b2-b438-975cd81fc9c6",
   "metadata": {},
   "outputs": [],
   "source": [
    "q = list(embedding_generator)[0]"
   ]
  },
  {
   "cell_type": "code",
   "execution_count": 9,
   "id": "409a7b5b-f9da-47c8-92c7-6ce628ab4481",
   "metadata": {},
   "outputs": [
    {
     "data": {
      "text/plain": [
       "np.float64(-0.11726373885183883)"
      ]
     },
     "execution_count": 9,
     "metadata": {},
     "output_type": "execute_result"
    }
   ],
   "source": [
    "min(q)"
   ]
  },
  {
   "cell_type": "code",
   "execution_count": 10,
   "id": "5dbb3026-0b7f-43bf-8e95-8a79f066807c",
   "metadata": {},
   "outputs": [
    {
     "data": {
      "text/plain": [
       "np.float64(-0.117)"
      ]
     },
     "execution_count": 10,
     "metadata": {},
     "output_type": "execute_result"
    }
   ],
   "source": [
    "min(q).round(3)"
   ]
  },
  {
   "cell_type": "code",
   "execution_count": 11,
   "id": "2555d869-fc96-4316-b583-ea9f293f3af7",
   "metadata": {},
   "outputs": [
    {
     "data": {
      "text/plain": [
       "np.float64(0.133)"
      ]
     },
     "execution_count": 11,
     "metadata": {},
     "output_type": "execute_result"
    }
   ],
   "source": [
    "max(q).round(3)"
   ]
  },
  {
   "cell_type": "markdown",
   "id": "a7d05782-603e-4049-86be-706b4cc74b37",
   "metadata": {},
   "source": [
    "#### Cosine Similarity"
   ]
  },
  {
   "cell_type": "code",
   "execution_count": 12,
   "id": "24814c4c-430a-497b-a78a-529b20b81817",
   "metadata": {},
   "outputs": [
    {
     "data": {
      "text/plain": [
       "np.float64(1.0)"
      ]
     },
     "execution_count": 12,
     "metadata": {},
     "output_type": "execute_result"
    }
   ],
   "source": [
    "np.linalg.norm(q)"
   ]
  },
  {
   "cell_type": "code",
   "execution_count": 13,
   "id": "2d17410e-f6e7-460c-913d-7c7e4931a2e9",
   "metadata": {},
   "outputs": [
    {
     "data": {
      "text/plain": [
       "np.float64(1.0000000000000002)"
      ]
     },
     "execution_count": 13,
     "metadata": {},
     "output_type": "execute_result"
    }
   ],
   "source": [
    "q.dot(q)"
   ]
  },
  {
   "cell_type": "markdown",
   "id": "f0d080d8-a50a-494f-9cdb-342a83adabc9",
   "metadata": {},
   "source": [
    "### Q2. Cosine similarity with another vector"
   ]
  },
  {
   "cell_type": "code",
   "execution_count": 14,
   "id": "4daf68b4-2cd9-4f7c-a0e5-1f62e0faf13d",
   "metadata": {},
   "outputs": [],
   "source": [
    "doc = 'Can I still join the course after the start date?'"
   ]
  },
  {
   "cell_type": "code",
   "execution_count": 15,
   "id": "dafe1396-e38b-4d8a-8698-6edd5f0e5dd1",
   "metadata": {},
   "outputs": [],
   "source": [
    "embedding_generator = model.embed(documents=doc, batch_size=512)\n",
    "x = list(embedding_generator)[0]"
   ]
  },
  {
   "cell_type": "code",
   "execution_count": 16,
   "id": "c697c6b4-4916-490f-89a1-5428278b2648",
   "metadata": {},
   "outputs": [
    {
     "data": {
      "text/plain": [
       "np.float64(0.9008528895674548)"
      ]
     },
     "execution_count": 16,
     "metadata": {},
     "output_type": "execute_result"
    }
   ],
   "source": [
    "q.dot(x)"
   ]
  },
  {
   "cell_type": "markdown",
   "id": "52aa16a8-887e-44ef-938c-187ac8d90181",
   "metadata": {},
   "source": [
    "### Q3. Ranking by cosine"
   ]
  },
  {
   "cell_type": "code",
   "execution_count": 17,
   "id": "89771cd4-a2aa-4180-866d-beb1c64cbcc0",
   "metadata": {},
   "outputs": [],
   "source": [
    "documents = [{'text': \"Yes, even if you don't register, you're still eligible to submit the homeworks.\\nBe aware, however, that there will be deadlines for turning in the final projects. So don't leave everything for the last minute.\",\n",
    "  'section': 'General course-related questions',\n",
    "  'question': 'Course - Can I still join the course after the start date?',\n",
    "  'course': 'data-engineering-zoomcamp'},\n",
    " {'text': 'Yes, we will keep all the materials after the course finishes, so you can follow the course at your own pace after it finishes.\\nYou can also continue looking at the homeworks and continue preparing for the next cohort. I guess you can also start working on your final capstone project.',\n",
    "  'section': 'General course-related questions',\n",
    "  'question': 'Course - Can I follow the course after it finishes?',\n",
    "  'course': 'data-engineering-zoomcamp'},\n",
    " {'text': \"The purpose of this document is to capture frequently asked technical questions\\nThe exact day and hour of the course will be 15th Jan 2024 at 17h00. The course will start with the first  “Office Hours'' live.1\\nSubscribe to course public Google Calendar (it works from Desktop only).\\nRegister before the course starts using this link.\\nJoin the course Telegram channel with announcements.\\nDon’t forget to register in DataTalks.Club's Slack and join the channel.\",\n",
    "  'section': 'General course-related questions',\n",
    "  'question': 'Course - When will the course start?',\n",
    "  'course': 'data-engineering-zoomcamp'},\n",
    " {'text': 'You can start by installing and setting up all the dependencies and requirements:\\nGoogle cloud account\\nGoogle Cloud SDK\\nPython 3 (installed with Anaconda)\\nTerraform\\nGit\\nLook over the prerequisites and syllabus to see if you are comfortable with these subjects.',\n",
    "  'section': 'General course-related questions',\n",
    "  'question': 'Course - What can I do before the course starts?',\n",
    "  'course': 'data-engineering-zoomcamp'},\n",
    " {'text': 'Star the repo! Share it with friends if you find it useful ❣️\\nCreate a PR if you see you can improve the text or the structure of the repository.',\n",
    "  'section': 'General course-related questions',\n",
    "  'question': 'How can we contribute to the course?',\n",
    "  'course': 'data-engineering-zoomcamp'}]"
   ]
  },
  {
   "cell_type": "code",
   "execution_count": 18,
   "id": "15655945-4501-4d17-a795-4107d5f44b52",
   "metadata": {},
   "outputs": [
    {
     "name": "stdout",
     "output_type": "stream",
     "text": [
      "0: 0.762968451872193\n",
      "1: 0.8182378156620136\n",
      "2: 0.8085397445747489\n",
      "3: 0.7133078832064158\n",
      "4: 0.7304499196411823\n"
     ]
    }
   ],
   "source": [
    "for i, doc in enumerate(documents, 0):\n",
    "    embedding_generator = model.embed(doc['text'])\n",
    "    embedding_list = list(embedding_generator)[0]\n",
    "\n",
    "    cosine = q.dot(embedding_list)\n",
    "\n",
    "    print(f'{i}: {cosine}')"
   ]
  },
  {
   "cell_type": "code",
   "execution_count": 19,
   "id": "2500c0c1-4f2c-4b4e-9af1-fb21821d62c2",
   "metadata": {},
   "outputs": [
    {
     "name": "stdout",
     "output_type": "stream",
     "text": [
      "[0.76296845 0.81823782 0.80853974 0.71330788 0.73044992]\n"
     ]
    }
   ],
   "source": [
    "embeds = []\n",
    "\n",
    "for i, doc in enumerate(documents, 0):\n",
    "    embedding_generator = model.embed(doc['text'])\n",
    "    embedding_list = list(embedding_generator)[0]\n",
    "\n",
    "    embeds.append(embedding_list)\n",
    "\n",
    "embeds = np.array(embeds)\n",
    "print(embeds.dot(q))"
   ]
  },
  {
   "cell_type": "markdown",
   "id": "9f25f902-49fa-4486-a168-cda87b6d301d",
   "metadata": {},
   "source": [
    "### Q4. Ranking by cosine, version two"
   ]
  },
  {
   "cell_type": "code",
   "execution_count": 20,
   "id": "0fd280e3-8838-4e7d-8d31-c18c55cf9e76",
   "metadata": {},
   "outputs": [
    {
     "name": "stdout",
     "output_type": "stream",
     "text": [
      "0: 0.851454319443226\n",
      "1: 0.8436594005975433\n",
      "2: 0.8408287224005012\n",
      "3: 0.7755157657626952\n",
      "4: 0.8086007917931166\n"
     ]
    }
   ],
   "source": [
    "for i, doc in enumerate(documents, 0):\n",
    "    full_text = doc['question'] + ' ' + doc['text']\n",
    "    \n",
    "    embedding_generator = model.embed(full_text)\n",
    "    embedding_list = list(embedding_generator)[0]\n",
    "\n",
    "    cosine = q.dot(embedding_list)\n",
    "\n",
    "    print(f'{i}: {cosine}')"
   ]
  },
  {
   "cell_type": "markdown",
   "id": "a608f7f1-3888-4ec3-8652-320be09a972d",
   "metadata": {},
   "source": [
    "### Q5. Selecting the embedding model"
   ]
  },
  {
   "cell_type": "code",
   "execution_count": 21,
   "id": "f1f7ae35-7ecf-45c8-9269-04db34c26ecf",
   "metadata": {},
   "outputs": [
    {
     "name": "stdout",
     "output_type": "stream",
     "text": [
      "384\n"
     ]
    }
   ],
   "source": [
    "sizes = set()\n",
    "\n",
    "for model in TextEmbedding.list_supported_models():\n",
    "    sizes.add(model['dim'])\n",
    "\n",
    "print(min(sizes))"
   ]
  },
  {
   "cell_type": "markdown",
   "id": "1ed7bf86-498c-41c3-ac66-cea5fd739ad0",
   "metadata": {},
   "source": [
    "### Q6. Indexing with qdrant"
   ]
  },
  {
   "cell_type": "code",
   "execution_count": 22,
   "id": "f8e7aa3a-ed04-473e-852f-199e2ad89946",
   "metadata": {},
   "outputs": [],
   "source": [
    "import requests"
   ]
  },
  {
   "cell_type": "code",
   "execution_count": 23,
   "id": "fca4bf18-3671-4833-8147-a4f147cb284b",
   "metadata": {},
   "outputs": [],
   "source": [
    "docs_url = 'https://github.com/alexeygrigorev/llm-rag-workshop/raw/main/notebooks/documents.json'\n",
    "docs_response = requests.get(docs_url)\n",
    "docs_raw = docs_response.json()"
   ]
  },
  {
   "cell_type": "code",
   "execution_count": 24,
   "id": "18eb7453-5b88-4a08-97b5-84dccfa47c57",
   "metadata": {},
   "outputs": [],
   "source": [
    "documents = []\n",
    "\n",
    "for course in docs_raw:\n",
    "    course_name = course['course']\n",
    "    if course_name != 'machine-learning-zoomcamp':\n",
    "        continue\n",
    "\n",
    "    for doc in course['documents']:\n",
    "        doc['course'] = course_name\n",
    "        documents.append(doc)"
   ]
  },
  {
   "cell_type": "code",
   "execution_count": 25,
   "id": "caf44d11-947c-490f-85b7-6163e4703900",
   "metadata": {},
   "outputs": [],
   "source": [
    "from qdrant_client import QdrantClient, models"
   ]
  },
  {
   "cell_type": "code",
   "execution_count": 26,
   "id": "504708f4-1bf6-4240-b3fe-f4ef23259246",
   "metadata": {},
   "outputs": [],
   "source": [
    "qd_client = QdrantClient('http://localhost:7333/')"
   ]
  },
  {
   "cell_type": "code",
   "execution_count": 27,
   "id": "eaafa3f5-ed92-4a82-a51c-d8315f1e6af8",
   "metadata": {},
   "outputs": [
    {
     "data": {
      "text/plain": [
       "True"
      ]
     },
     "execution_count": 27,
     "metadata": {},
     "output_type": "execute_result"
    }
   ],
   "source": [
    "qd_client.create_collection(\n",
    "    collection_name=\"assignment-2\",\n",
    "    vectors_config=models.VectorParams(\n",
    "        size=512,\n",
    "        distance=models.Distance.COSINE\n",
    "    ),\n",
    ")"
   ]
  },
  {
   "cell_type": "code",
   "execution_count": 28,
   "id": "e7a8849b-6cdd-4aad-a3f5-0b5da64f1121",
   "metadata": {},
   "outputs": [
    {
     "data": {
      "text/plain": [
       "UpdateResult(operation_id=0, status=<UpdateStatus.COMPLETED: 'completed'>)"
      ]
     },
     "execution_count": 28,
     "metadata": {},
     "output_type": "execute_result"
    }
   ],
   "source": [
    "import uuid\n",
    "\n",
    "qd_client.upsert(\n",
    "    collection_name=\"assignment-2\",\n",
    "    points=[\n",
    "        models.PointStruct(\n",
    "            id=uuid.uuid4().hex,\n",
    "            vector=models.Document(\n",
    "                text=doc['question'] + ' ' + doc['text'],\n",
    "                model=model_handle\n",
    "            ),\n",
    "            payload=doc\n",
    "        )\n",
    "\n",
    "        for doc in documents\n",
    "    ]\n",
    ")"
   ]
  },
  {
   "cell_type": "code",
   "execution_count": 29,
   "id": "7aeeade4-d703-4c6d-adbe-c4355658a038",
   "metadata": {},
   "outputs": [],
   "source": [
    "search_results = qd_client.query_points(\n",
    "    collection_name=\"assignment-2\",\n",
    "    query=models.Document(\n",
    "        text = query,\n",
    "        model = model_handle\n",
    "    ),\n",
    "    with_payload=True\n",
    ")"
   ]
  },
  {
   "cell_type": "code",
   "execution_count": 30,
   "id": "1af95293-9569-4303-8079-549f94e85cfc",
   "metadata": {},
   "outputs": [
    {
     "name": "stdout",
     "output_type": "stream",
     "text": [
      "Score: 0.8620738\n",
      "Payload:\n",
      "{'text': 'Yes, you can. You won’t be able to submit some of the homeworks, but you can still take part in the course.\\nIn order to get a certificate, you need to submit 2 out of 3 course projects and review 3 peers’ Projects by the deadline. It means that if you join the course at the end of November and manage to work on two projects, you will still be eligible for a certificate.', 'section': 'General course-related questions', 'question': 'The course has already started. Can I still join it?', 'course': 'machine-learning-zoomcamp'}\n",
      "---------\n",
      "Score: 0.83894074\n",
      "Payload:\n",
      "{'text': 'Welcome to the course! Go to the course page (http://mlzoomcamp.com/), scroll down and start going through the course materials. Then read everything in the cohort folder for your cohort’s year.\\nClick on the links and start watching the videos. Also watch office hours from previous cohorts. Go to DTC youtube channel and click on Playlists and search for {course yyyy}. ML Zoomcamp was first launched in 2021.\\nOr you can just use this link: http://mlzoomcamp.com/#syllabus', 'section': 'General course-related questions', 'question': 'I just joined. What should I do next? How can I access course materials?', 'course': 'machine-learning-zoomcamp'}\n",
      "---------\n",
      "Score: 0.83306783\n",
      "Payload:\n",
      "{'text': 'The course videos are pre-recorded, you can start watching the course right now.\\nWe will also occasionally have office hours - live sessions where we will answer your questions. The office hours sessions are recorded too.\\nYou can see the office hours as well as the pre-recorded course videos in the course playlist on YouTube.', 'section': 'General course-related questions', 'question': 'Is it going to be live? When?', 'course': 'machine-learning-zoomcamp'}\n",
      "---------\n",
      "Score: 0.8309088\n",
      "Payload:\n",
      "{'text': 'We won’t re-record the course videos. The focus of the course and the skills we want to teach remained the same, and the videos are still up-to-date.\\nIf you haven’t taken part in the previous iteration, you can start watching the videos. It’ll be useful for you and you will learn new things. However, we recommend using Python 3.10 now instead of Python 3.8.', 'section': 'General course-related questions', 'question': 'The course videos are from the previous iteration. Will you release new ones or we’ll use the videos from 2021?', 'course': 'machine-learning-zoomcamp'}\n",
      "---------\n",
      "Score: 0.82235324\n",
      "Payload:\n",
      "{'text': \"Yes! We'll cover some linear algebra in the course, but in general, there will be very few formulas, mostly code.\\nHere are some interesting videos covering linear algebra that you can already watch: ML Zoomcamp 1.8 - Linear Algebra Refresher from Alexey Grigorev or the excellent playlist from 3Blue1Brown Vectors | Chapter 1, Essence of linear algebra. Never hesitate to ask the community for help if you have any question.\\n(Mélanie Fouesnard)\", 'section': 'General course-related questions', 'question': \"I don't know math. Can I take the course?\", 'course': 'machine-learning-zoomcamp'}\n",
      "---------\n",
      "Score: 0.82164747\n",
      "Payload:\n",
      "{'text': 'Approximately 4 months, but may take more if you want to do some extra activities (an extra project, an article, etc)', 'section': 'General course-related questions', 'question': 'How long is the course?', 'course': 'machine-learning-zoomcamp'}\n",
      "---------\n",
      "Score: 0.81928676\n",
      "Payload:\n",
      "{'text': 'The course is available in the self-paced mode too, so you can go through the materials at any time. But if you want to do it as a cohort with other students, the next iterations will happen in September 2023, September 2024 (and potentially other Septembers as well).', 'section': 'General course-related questions', 'question': 'When does the next iteration start?', 'course': 'machine-learning-zoomcamp'}\n",
      "---------\n",
      "Score: 0.8143356\n",
      "Payload:\n",
      "{'text': \"Here’s how you join a in Slack: https://slack.com/help/articles/205239967-Join-a-channel\\nClick “All channels” at the top of your left sidebar. If you don't see this option, click “More” to find it.\\nBrowse the list of public channels in your workspace, or use the search bar to search by channel name or description.\\nSelect a channel from the list to view it.\\nClick Join Channel.\\nDo we need to provide the GitHub link to only our code corresponding to the homework questions?\\nYes. You are required to provide the URL to your repo in order to receive a grade\", 'section': 'General course-related questions', 'question': 'I’m new to Slack and can’t find the course channel. Where is it?', 'course': 'machine-learning-zoomcamp'}\n",
      "---------\n",
      "Score: 0.8119575\n",
      "Payload:\n",
      "{'text': \"The process is automated now, so you should receive the email eventually. If you haven’t, check your promotions tab in Gmail as well as spam.\\nIf you unsubscribed from our newsletter, you won't get course related updates too.\\nBut don't worry, it’s not a problem. To make sure you don’t miss anything, join the #course-ml-zoomcamp channel in Slack and our telegram channel with announcements. This is enough to follow the course.\", 'section': 'General course-related questions', 'question': \"I filled the form, but haven't received a confirmation email. Is it normal?\", 'course': 'machine-learning-zoomcamp'}\n",
      "---------\n",
      "Score: 0.81185955\n",
      "Payload:\n",
      "{'text': \"You can create your own github repository for the course with your notes, homework, projects, etc.\\nThen fork the original course repo and add a link under the 'Community Notes' section to the notes that are in your own repo.\\nAfter that's done, create a pull request to sync your fork with the original course repo.\\n(By Wesley Barreto)\", 'section': 'General course-related questions', 'question': 'Adding community notes', 'course': 'machine-learning-zoomcamp'}\n",
      "---------\n"
     ]
    }
   ],
   "source": [
    "for result in search_results.points:\n",
    "    print(f'Score: {result.score}')\n",
    "    print(f'Payload:\\n{result.payload}')\n",
    "    print(\"---------\")"
   ]
  },
  {
   "cell_type": "code",
   "execution_count": null,
   "id": "78fd8bad-15af-43b8-8deb-89a5f89cf2c5",
   "metadata": {},
   "outputs": [],
   "source": []
  }
 ],
 "metadata": {
  "kernelspec": {
   "display_name": "Python 3 (ipykernel)",
   "language": "python",
   "name": "python3"
  },
  "language_info": {
   "codemirror_mode": {
    "name": "ipython",
    "version": 3
   },
   "file_extension": ".py",
   "mimetype": "text/x-python",
   "name": "python",
   "nbconvert_exporter": "python",
   "pygments_lexer": "ipython3",
   "version": "3.12.3"
  }
 },
 "nbformat": 4,
 "nbformat_minor": 5
}
